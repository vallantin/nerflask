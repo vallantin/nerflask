{
 "cells": [
  {
   "cell_type": "markdown",
   "id": "c624c8b7-84f0-4e1b-acff-a26b8aa76ba2",
   "metadata": {},
   "source": [
    "# Medical NER extraction\n",
    "\n",
    "Use this notebook to test the performance of the Named Entity Recognition model for medical entities extraction."
   ]
  },
  {
   "cell_type": "code",
   "execution_count": 2,
   "id": "8f8243a2-60d9-4393-bb6d-beb5da8b9d05",
   "metadata": {},
   "outputs": [],
   "source": [
    "# load and display entities\n",
    "from spacy import load\n",
    "from spacy import displacy\n",
    "\n",
    "# normalize\n",
    "from textacy import preprocessing \n",
    "\n",
    "# load the model\n",
    "nlp = load(f\"../nerflask/model\")"
   ]
  },
  {
   "cell_type": "raw",
   "id": "8787728b-e5ef-48c5-878b-32adaf2745db",
   "metadata": {},
   "source": [
    "Define the normalization function"
   ]
  },
  {
   "cell_type": "code",
   "execution_count": 3,
   "id": "ca2a9f0f-78f8-4389-891a-32614ac05deb",
   "metadata": {},
   "outputs": [],
   "source": [
    "def normalize(text:str) -> str:\n",
    "\n",
    "    \"\"\" **normalize(text:str) -> str** \n",
    "    \n",
    "        Process a string using a pipeline. Will put all normalization steps into a normalization pipeline.\n",
    "    \n",
    "        **Args:**\n",
    "            \n",
    "        **text** (str): The text to normalize. \n",
    "            \n",
    "    \"\"\"\n",
    "    text = text.lower()\n",
    "    text = preprocessing.normalize.unicode(text)\n",
    "    text = preprocessing.replace.user_handles(text, 'USER')\n",
    "    text = preprocessing.replace.phone_numbers(text, 'PHONE')\n",
    "    text = preprocessing.replace.emails(text, 'EMAIL')\n",
    "    text = preprocessing.replace.urls(text, 'URL')\n",
    "    text = text.strip()\n",
    "    \n",
    "    return text"
   ]
  },
  {
   "cell_type": "raw",
   "id": "ba9174a6-655a-4158-9158-bdfcd3a73a05",
   "metadata": {},
   "source": [
    "Predict"
   ]
  },
  {
   "cell_type": "code",
   "execution_count": 19,
   "id": "55c8bb9e-7142-4069-99c2-0acaed58726f",
   "metadata": {},
   "outputs": [
    {
     "data": {
      "text/html": [
       "<span class=\"tex2jax_ignore\"><div class=\"entities\" style=\"line-height: 2.5; direction: ltr\">my mom (\n",
       "<mark class=\"entity\" style=\"background: #ddd; padding: 0.45em 0.6em; margin: 0 0.25em; line-height: 1; border-radius: 0.35em;\">\n",
       "    72\n",
       "    <span style=\"font-size: 0.8em; font-weight: bold; line-height: 1; border-radius: 0.35em; vertical-align: middle; margin-left: 0.5rem\">AGE</span>\n",
       "</mark>\n",
       ") is having \n",
       "<mark class=\"entity\" style=\"background: #ddd; padding: 0.45em 0.6em; margin: 0 0.25em; line-height: 1; border-radius: 0.35em;\">\n",
       "    symptoms\n",
       "    <span style=\"font-size: 0.8em; font-weight: bold; line-height: 1; border-radius: 0.35em; vertical-align: middle; margin-left: 0.5rem\">JARGON</span>\n",
       "</mark>\n",
       " of \n",
       "<mark class=\"entity\" style=\"background: #ddd; padding: 0.45em 0.6em; margin: 0 0.25em; line-height: 1; border-radius: 0.35em;\">\n",
       "    covid\n",
       "    <span style=\"font-size: 0.8em; font-weight: bold; line-height: 1; border-radius: 0.35em; vertical-align: middle; margin-left: 0.5rem\">DISEASE</span>\n",
       "</mark>\n",
       ". her \n",
       "<mark class=\"entity\" style=\"background: #ddd; padding: 0.45em 0.6em; margin: 0 0.25em; line-height: 1; border-radius: 0.35em;\">\n",
       "    saturation fell\n",
       "    <span style=\"font-size: 0.8em; font-weight: bold; line-height: 1; border-radius: 0.35em; vertical-align: middle; margin-left: 0.5rem\">DISEASE</span>\n",
       "</mark>\n",
       " and we got her \n",
       "<mark class=\"entity\" style=\"background: #ddd; padding: 0.45em 0.6em; margin: 0 0.25em; line-height: 1; border-radius: 0.35em;\">\n",
       "    hospitalized\n",
       "    <span style=\"font-size: 0.8em; font-weight: bold; line-height: 1; border-radius: 0.35em; vertical-align: middle; margin-left: 0.5rem\">JARGON</span>\n",
       "</mark>\n",
       ". she had \n",
       "<mark class=\"entity\" style=\"background: #ddd; padding: 0.45em 0.6em; margin: 0 0.25em; line-height: 1; border-radius: 0.35em;\">\n",
       "    fever\n",
       "    <span style=\"font-size: 0.8em; font-weight: bold; line-height: 1; border-radius: 0.35em; vertical-align: middle; margin-left: 0.5rem\">SYMPTOM</span>\n",
       "</mark>\n",
       ".</div></span>"
      ],
      "text/plain": [
       "<IPython.core.display.HTML object>"
      ]
     },
     "metadata": {},
     "output_type": "display_data"
    }
   ],
   "source": [
    "text = \"My mom (72) is having symptoms of Covid. Her saturation fell and we got her hospitalized. She had fever.\"\n",
    "text = normalize(text)\n",
    "\n",
    "# convert to doc object\n",
    "doc = nlp(text)\n",
    "\n",
    "# predict and display\n",
    "displacy.render(doc, style=\"ent\", jupyter=True)"
   ]
  }
 ],
 "metadata": {
  "kernelspec": {
   "display_name": "Python 3",
   "language": "python",
   "name": "python3"
  },
  "language_info": {
   "codemirror_mode": {
    "name": "ipython",
    "version": 3
   },
   "file_extension": ".py",
   "mimetype": "text/x-python",
   "name": "python",
   "nbconvert_exporter": "python",
   "pygments_lexer": "ipython3",
   "version": "3.8.8"
  }
 },
 "nbformat": 4,
 "nbformat_minor": 5
}
